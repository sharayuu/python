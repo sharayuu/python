{
 "cells": [
  {
   "cell_type": "markdown",
   "metadata": {},
   "source": [
    "# Python Program to Find the Second Largest Number in a List"
   ]
  },
  {
   "cell_type": "code",
   "execution_count": 8,
   "metadata": {},
   "outputs": [
    {
     "name": "stdout",
     "output_type": "stream",
     "text": [
      "83\n"
     ]
    }
   ],
   "source": [
    "lst = [35, 10, 68, 15, 99, 25, 47, 83]\n",
    "lst.sort()\n",
    "print(lst[-2])"
   ]
  },
  {
   "cell_type": "code",
   "execution_count": 14,
   "metadata": {},
   "outputs": [
    {
     "name": "stdout",
     "output_type": "stream",
     "text": [
      "Enter the number of elements in list:4\n",
      "Enter elements:7\n",
      "Enter elements:3\n",
      "Enter elements:12\n",
      "Enter elements:6\n",
      "Largest number is  7\n"
     ]
    }
   ],
   "source": [
    "lst = []\n",
    "num = int(input(\"Enter the number of elements in list:\"))\n",
    "for l in range (0,num):\n",
    "    ip = int(input(\"Enter elements:\"))\n",
    "    lst.append(ip)\n",
    "lst.sort()\n",
    "print(\"Second largest number is \", lst[-2])"
   ]
  },
  {
   "cell_type": "code",
   "execution_count": 22,
   "metadata": {},
   "outputs": [
    {
     "name": "stdout",
     "output_type": "stream",
     "text": [
      "Second largest number is  83\n"
     ]
    }
   ],
   "source": [
    "lst = [35, 10, 68, 15, 99, 25, 47, 83]\n",
    "lst.sort()\n",
    "print(\"Second largest number is \", lst[len(lst)-2])"
   ]
  },
  {
   "cell_type": "code",
   "execution_count": null,
   "metadata": {},
   "outputs": [],
   "source": []
  }
 ],
 "metadata": {
  "kernelspec": {
   "display_name": "Python 3",
   "language": "python",
   "name": "python3"
  },
  "language_info": {
   "codemirror_mode": {
    "name": "ipython",
    "version": 3
   },
   "file_extension": ".py",
   "mimetype": "text/x-python",
   "name": "python",
   "nbconvert_exporter": "python",
   "pygments_lexer": "ipython3",
   "version": "3.7.3"
  }
 },
 "nbformat": 4,
 "nbformat_minor": 2
}
