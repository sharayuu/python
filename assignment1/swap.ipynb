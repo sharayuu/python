{
 "cells": [
  {
   "cell_type": "markdown",
   "metadata": {},
   "source": [
    "# Python Program to Swap the First and Last Value of a List"
   ]
  },
  {
   "cell_type": "code",
   "execution_count": 2,
   "metadata": {},
   "outputs": [
    {
     "name": "stdout",
     "output_type": "stream",
     "text": [
      "Swap first and last element of list\n",
      "List before swaping:\n",
      " [35, 10, 68, 15, 99, 25, 47, 83]\n",
      "List after swaping:\n",
      " [83, 10, 68, 15, 99, 25, 47, 35]\n"
     ]
    }
   ],
   "source": [
    "lst = [35, 10, 68, 15, 99, 25, 47, 83]\n",
    "print(\"Swap first and last element of list\")\n",
    "print(\"List before swaping:\\n\", lst)\n",
    "lst[-1], lst[0] = lst[0], lst[-1]\n",
    "print(\"List after swaping:\\n\", lst)"
   ]
  },
  {
   "cell_type": "code",
   "execution_count": 1,
   "metadata": {},
   "outputs": [
    {
     "name": "stdout",
     "output_type": "stream",
     "text": [
      "Swap first and last element of list\n",
      "List before swaping:\n",
      " [45, 52, 86, 36, 21, 28, 76]\n",
      "List after swaping:\n",
      " [76, 52, 86, 36, 21, 28, 45]\n"
     ]
    }
   ],
   "source": [
    "lst = [45,52,86,36,21,28,76]\n",
    "print(\"Swap first and last element of list\")\n",
    "print(\"List before swaping:\\n\", lst)\n",
    "a = lst.pop(0)\n",
    "b = lst.pop(-1)\n",
    "lst.insert(0,b)\n",
    "lst.append(a)\n",
    "print(\"List after swaping:\\n\", lst)"
   ]
  },
  {
   "cell_type": "code",
   "execution_count": null,
   "metadata": {},
   "outputs": [],
   "source": []
  }
 ],
 "metadata": {
  "kernelspec": {
   "display_name": "Python 3",
   "language": "python",
   "name": "python3"
  },
  "language_info": {
   "codemirror_mode": {
    "name": "ipython",
    "version": 3
   },
   "file_extension": ".py",
   "mimetype": "text/x-python",
   "name": "python",
   "nbconvert_exporter": "python",
   "pygments_lexer": "ipython3",
   "version": "3.7.3"
  }
 },
 "nbformat": 4,
 "nbformat_minor": 2
}
