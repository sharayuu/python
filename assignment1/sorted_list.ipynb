{
 "cells": [
  {
   "cell_type": "markdown",
   "metadata": {},
   "source": [
    "# Python Program to Merge Two Lists and Sort it"
   ]
  },
  {
   "cell_type": "code",
   "execution_count": 7,
   "metadata": {},
   "outputs": [
    {
     "name": "stdout",
     "output_type": "stream",
     "text": [
      "Sorted list:\n",
      " [10, 15, 24, 25, 35, 47, 52, 52, 66, 68, 71, 75, 83, 85, 96, 99]\n"
     ]
    }
   ],
   "source": [
    "lst1 = [35, 10, 68, 15, 99, 25, 47, 83]\n",
    "lst2 = [75, 52, 85, 96, 52, 24, 66, 71]\n",
    "lst = lst1 + lst2\n",
    "lst.sort()\n",
    "print(\"Sorted list:\\n\", lst)"
   ]
  },
  {
   "cell_type": "code",
   "execution_count": null,
   "metadata": {},
   "outputs": [],
   "source": []
  }
 ],
 "metadata": {
  "kernelspec": {
   "display_name": "Python 3",
   "language": "python",
   "name": "python3"
  },
  "language_info": {
   "codemirror_mode": {
    "name": "ipython",
    "version": 3
   },
   "file_extension": ".py",
   "mimetype": "text/x-python",
   "name": "python",
   "nbconvert_exporter": "python",
   "pygments_lexer": "ipython3",
   "version": "3.7.3"
  }
 },
 "nbformat": 4,
 "nbformat_minor": 2
}
